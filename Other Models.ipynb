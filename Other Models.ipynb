{
 "cells": [
  {
   "cell_type": "markdown",
   "id": "67317f8c",
   "metadata": {},
   "source": [
    "# Model used for Comparison"
   ]
  },
  {
   "cell_type": "markdown",
   "id": "7c66102a",
   "metadata": {},
   "source": [
    "### Data Preparation"
   ]
  },
  {
   "cell_type": "code",
   "execution_count": 1,
   "id": "2cae9ba5",
   "metadata": {},
   "outputs": [],
   "source": [
    "import pandas as pd\n",
    "from sklearn.model_selection import train_test_split\n",
    "from sklearn.feature_extraction.text import TfidfVectorizer\n",
    "from sklearn.tree import DecisionTreeClassifier\n",
    "from sklearn.naive_bayes import MultinomialNB\n",
    "from lightgbm import LGBMClassifier\n",
    "from sklearn.linear_model import LogisticRegression\n",
    "from sklearn.neighbors import KNeighborsClassifier\n",
    "from sklearn.svm import SVC\n",
    "from sklearn.ensemble import RandomForestClassifier\n",
    "from sklearn.metrics import accuracy_score, precision_score, recall_score, f1_score\n",
    "\n",
    "# Load Dataset\n",
    "true_data = pd.read_csv('gossipcop_real.csv')\n",
    "fake_data = pd.read_csv('gossipcop_fake.csv')\n",
    "\n",
    "# Generate labels True/Fake under new Target Column in 'true_data' and 'fake_data'\n",
    "true_data['Target'] = ['True']*len(true_data)\n",
    "fake_data['Target'] = ['Fake']*len(fake_data)\n",
    "\n",
    "# Merge 'true_data' and 'fake_data', by random mixing into a single df called 'data'\n",
    "fake_news_data = pd.concat([true_data, fake_data]).sample(frac=1).reset_index(drop=True)\n",
    "\n",
    "# Preprocess the text data using TF-IDF vectorization\n",
    "vectorizer = TfidfVectorizer(max_features=1000)  # Adjust max_features as needed\n",
    "X = vectorizer.fit_transform(fake_news_data['title']).toarray()\n",
    "y = fake_news_data['Target']\n",
    "\n",
    "# Split the dataset into training and testing sets\n",
    "X_train, X_test, y_train, y_test = train_test_split(X, y, test_size=0.2, random_state=42)"
   ]
  },
  {
   "cell_type": "markdown",
   "id": "d7e77fdb",
   "metadata": {},
   "source": [
    "### View Data"
   ]
  },
  {
   "cell_type": "code",
   "execution_count": 2,
   "id": "7603226b",
   "metadata": {},
   "outputs": [
    {
     "name": "stdout",
     "output_type": "stream",
     "text": [
      "(22140, 5)\n"
     ]
    },
    {
     "data": {
      "text/html": [
       "<div>\n",
       "<style scoped>\n",
       "    .dataframe tbody tr th:only-of-type {\n",
       "        vertical-align: middle;\n",
       "    }\n",
       "\n",
       "    .dataframe tbody tr th {\n",
       "        vertical-align: top;\n",
       "    }\n",
       "\n",
       "    .dataframe thead th {\n",
       "        text-align: right;\n",
       "    }\n",
       "</style>\n",
       "<table border=\"1\" class=\"dataframe\">\n",
       "  <thead>\n",
       "    <tr style=\"text-align: right;\">\n",
       "      <th></th>\n",
       "      <th>id</th>\n",
       "      <th>news_url</th>\n",
       "      <th>title</th>\n",
       "      <th>tweet_ids</th>\n",
       "      <th>Target</th>\n",
       "    </tr>\n",
       "  </thead>\n",
       "  <tbody>\n",
       "    <tr>\n",
       "      <th>0</th>\n",
       "      <td>gossipcop-896820</td>\n",
       "      <td>https://www.businessinsider.com/richest-victor...</td>\n",
       "      <td>These are the 9 highest-paid Victoria's Secret...</td>\n",
       "      <td>935653397839130624\\t935658070172151808\\t935658...</td>\n",
       "      <td>True</td>\n",
       "    </tr>\n",
       "    <tr>\n",
       "      <th>1</th>\n",
       "      <td>gossipcop-914130</td>\n",
       "      <td>https://www.usmagazine.com/celebrity-news/news...</td>\n",
       "      <td>Inside Amy Schumer’s ‘Very Laid-Back’ Wedding ...</td>\n",
       "      <td>964237928636403712\\t964238809016696838\\t964238...</td>\n",
       "      <td>True</td>\n",
       "    </tr>\n",
       "    <tr>\n",
       "      <th>2</th>\n",
       "      <td>gossipcop-939986</td>\n",
       "      <td>https://www.townandcountrymag.com/society/trad...</td>\n",
       "      <td>Queen Elizabeth Keeps a Never-Before-Seen Phot...</td>\n",
       "      <td>1001863593636302850\\t1001863633805238272\\t1001...</td>\n",
       "      <td>True</td>\n",
       "    </tr>\n",
       "    <tr>\n",
       "      <th>3</th>\n",
       "      <td>gossipcop-908586</td>\n",
       "      <td>https://www.thisisinsider.com/rihanna-fashion-...</td>\n",
       "      <td>40 photos that show how Rihanna's style has ev...</td>\n",
       "      <td>956173097723449344\\t956173808863469568\\t956174...</td>\n",
       "      <td>True</td>\n",
       "    </tr>\n",
       "    <tr>\n",
       "      <th>4</th>\n",
       "      <td>gossipcop-851934</td>\n",
       "      <td>https://www.denofgeek.com/us/tv/law-order-true...</td>\n",
       "      <td>Law &amp; Order True Crime: The Menendez Murders T...</td>\n",
       "      <td>863962967729164289\\t863963158548971520\\t863963...</td>\n",
       "      <td>True</td>\n",
       "    </tr>\n",
       "  </tbody>\n",
       "</table>\n",
       "</div>"
      ],
      "text/plain": [
       "                 id                                           news_url  \\\n",
       "0  gossipcop-896820  https://www.businessinsider.com/richest-victor...   \n",
       "1  gossipcop-914130  https://www.usmagazine.com/celebrity-news/news...   \n",
       "2  gossipcop-939986  https://www.townandcountrymag.com/society/trad...   \n",
       "3  gossipcop-908586  https://www.thisisinsider.com/rihanna-fashion-...   \n",
       "4  gossipcop-851934  https://www.denofgeek.com/us/tv/law-order-true...   \n",
       "\n",
       "                                               title  \\\n",
       "0  These are the 9 highest-paid Victoria's Secret...   \n",
       "1  Inside Amy Schumer’s ‘Very Laid-Back’ Wedding ...   \n",
       "2  Queen Elizabeth Keeps a Never-Before-Seen Phot...   \n",
       "3  40 photos that show how Rihanna's style has ev...   \n",
       "4  Law & Order True Crime: The Menendez Murders T...   \n",
       "\n",
       "                                           tweet_ids Target  \n",
       "0  935653397839130624\\t935658070172151808\\t935658...   True  \n",
       "1  964237928636403712\\t964238809016696838\\t964238...   True  \n",
       "2  1001863593636302850\\t1001863633805238272\\t1001...   True  \n",
       "3  956173097723449344\\t956173808863469568\\t956174...   True  \n",
       "4  863962967729164289\\t863963158548971520\\t863963...   True  "
      ]
     },
     "execution_count": 2,
     "metadata": {},
     "output_type": "execute_result"
    }
   ],
   "source": [
    "print(fake_news_data.shape)\n",
    "fake_news_data.head()"
   ]
  },
  {
   "cell_type": "markdown",
   "id": "764ad4bc",
   "metadata": {},
   "source": [
    "## Decision Tree"
   ]
  },
  {
   "cell_type": "code",
   "execution_count": 3,
   "id": "22820c20",
   "metadata": {},
   "outputs": [
    {
     "name": "stdout",
     "output_type": "stream",
     "text": [
      "Accuracy: 0.7940379403794038\n",
      "Precision: 0.7886498800623719\n",
      "Recall: 0.7940379403794038\n",
      "F1 Score: 0.7910336231757119\n"
     ]
    }
   ],
   "source": [
    "# Train the Decision Tree Classifier\n",
    "decision_tree_classifier = DecisionTreeClassifier()\n",
    "decision_tree_classifier.fit(X_train, y_train)\n",
    "\n",
    "# Make predictions\n",
    "y_pred = decision_tree_classifier.predict(X_test)\n",
    "\n",
    "# Evaluate the classifier\n",
    "accuracy = accuracy_score(y_test, y_pred)\n",
    "precision = precision_score(y_test, y_pred, average='weighted')\n",
    "recall = recall_score(y_test, y_pred, average='weighted')\n",
    "f1 = f1_score(y_test, y_pred, average='weighted')\n",
    "\n",
    "print(\"Accuracy:\", accuracy)\n",
    "print(\"Precision:\", precision)\n",
    "print(\"Recall:\", recall)\n",
    "print(\"F1 Score:\", f1)"
   ]
  },
  {
   "cell_type": "markdown",
   "id": "baa79747",
   "metadata": {},
   "source": [
    "## Naive Bayes"
   ]
  },
  {
   "cell_type": "code",
   "execution_count": 4,
   "id": "247fbec7",
   "metadata": {},
   "outputs": [
    {
     "name": "stdout",
     "output_type": "stream",
     "text": [
      "Accuracy: 0.8407859078590786\n",
      "Precision: 0.8366952976160756\n",
      "Recall: 0.8407859078590786\n",
      "F1 Score: 0.8210536921244451\n"
     ]
    }
   ],
   "source": [
    "# Train the Naive Bayes Classifier\n",
    "naive_bayes_classifier = MultinomialNB()\n",
    "naive_bayes_classifier.fit(X_train, y_train)\n",
    "\n",
    "# Make predictions\n",
    "y_pred = naive_bayes_classifier.predict(X_test)\n",
    "\n",
    "# Evaluate the classifier\n",
    "accuracy = accuracy_score(y_test, y_pred)\n",
    "precision = precision_score(y_test, y_pred, average='weighted')\n",
    "recall = recall_score(y_test, y_pred, average='weighted')\n",
    "f1 = f1_score(y_test, y_pred, average='weighted')\n",
    "\n",
    "print(\"Accuracy:\", accuracy)\n",
    "print(\"Precision:\", precision)\n",
    "print(\"Recall:\", recall)\n",
    "print(\"F1 Score:\", f1)"
   ]
  },
  {
   "cell_type": "markdown",
   "id": "9fb663f0",
   "metadata": {},
   "source": [
    "## Logistic Regression"
   ]
  },
  {
   "cell_type": "code",
   "execution_count": 5,
   "id": "7075be61",
   "metadata": {},
   "outputs": [
    {
     "name": "stdout",
     "output_type": "stream",
     "text": [
      "Accuracy: 0.8443992773261066\n",
      "Precision: 0.8367266206580636\n",
      "Recall: 0.8443992773261066\n",
      "F1 Score: 0.8304945792841278\n"
     ]
    }
   ],
   "source": [
    "# Train the Logistic Regression Classifier\n",
    "logistic_regression_classifier = LogisticRegression(max_iter=1000)\n",
    "logistic_regression_classifier.fit(X_train, y_train)\n",
    "\n",
    "# Make predictions\n",
    "y_pred = logistic_regression_classifier.predict(X_test)\n",
    "\n",
    "# Evaluate the classifier\n",
    "accuracy = accuracy_score(y_test, y_pred)\n",
    "precision = precision_score(y_test, y_pred, average='weighted')\n",
    "recall = recall_score(y_test, y_pred, average='weighted')\n",
    "f1 = f1_score(y_test, y_pred, average='weighted')\n",
    "\n",
    "print(\"Accuracy:\", accuracy)\n",
    "print(\"Precision:\", precision)\n",
    "print(\"Recall:\", recall)\n",
    "print(\"F1 Score:\", f1)"
   ]
  },
  {
   "cell_type": "markdown",
   "id": "436c5f8c",
   "metadata": {},
   "source": [
    "## LightGBM"
   ]
  },
  {
   "cell_type": "code",
   "execution_count": 6,
   "id": "d7eb26d8",
   "metadata": {},
   "outputs": [
    {
     "name": "stdout",
     "output_type": "stream",
     "text": [
      "[LightGBM] [Info] Number of positive: 13427, number of negative: 4285\n",
      "[LightGBM] [Info] Auto-choosing row-wise multi-threading, the overhead of testing was 0.073301 seconds.\n",
      "You can set `force_row_wise=true` to remove the overhead.\n",
      "And if memory is not enough, you can set `force_col_wise=true`.\n",
      "[LightGBM] [Info] Total Bins 38117\n",
      "[LightGBM] [Info] Number of data points in the train set: 17712, number of used features: 1000\n",
      "[LightGBM] [Info] [binary:BoostFromScore]: pavg=0.758074 -> initscore=1.142147\n",
      "[LightGBM] [Info] Start training from score 1.142147\n",
      "Accuracy: 0.8446251129177959\n",
      "Precision: 0.8376406156735272\n",
      "Recall: 0.8446251129177959\n",
      "F1 Score: 0.8297441206854065\n"
     ]
    }
   ],
   "source": [
    "# Train the LightGBM Classifier\n",
    "lgbm_classifier = LGBMClassifier()\n",
    "lgbm_classifier.fit(X_train, y_train)\n",
    "\n",
    "# Make predictions\n",
    "y_pred = lgbm_classifier.predict(X_test)\n",
    "\n",
    "# Evaluate the classifier\n",
    "accuracy = accuracy_score(y_test, y_pred)\n",
    "precision = precision_score(y_test, y_pred, average='weighted')\n",
    "recall = recall_score(y_test, y_pred, average='weighted')\n",
    "f1 = f1_score(y_test, y_pred, average='weighted')\n",
    "\n",
    "print(\"Accuracy:\", accuracy)\n",
    "print(\"Precision:\", precision)\n",
    "print(\"Recall:\", recall)\n",
    "print(\"F1 Score:\", f1)"
   ]
  },
  {
   "cell_type": "markdown",
   "id": "6507d291",
   "metadata": {},
   "source": [
    "## K-Nearest Neighbour "
   ]
  },
  {
   "cell_type": "code",
   "execution_count": 7,
   "id": "2e1b7e00",
   "metadata": {},
   "outputs": [
    {
     "name": "stdout",
     "output_type": "stream",
     "text": [
      "Accuracy: 0.8139114724480578\n",
      "Precision: 0.7984096414864092\n",
      "Recall: 0.8139114724480578\n",
      "F1 Score: 0.7960888887278706\n"
     ]
    }
   ],
   "source": [
    "# Train the K-Nearest Neighbors Classifier\n",
    "knn_classifier = KNeighborsClassifier(n_neighbors=5)  # You can adjust the number of neighbors\n",
    "knn_classifier.fit(X_train, y_train)\n",
    "\n",
    "# Make predictions\n",
    "y_pred = knn_classifier.predict(X_test)\n",
    "\n",
    "# Evaluate the classifier\n",
    "accuracy = accuracy_score(y_test, y_pred)\n",
    "precision = precision_score(y_test, y_pred, average='weighted')\n",
    "recall = recall_score(y_test, y_pred, average='weighted')\n",
    "f1 = f1_score(y_test, y_pred, average='weighted')\n",
    "\n",
    "print(\"Accuracy:\", accuracy)\n",
    "print(\"Precision:\", precision)\n",
    "print(\"Recall:\", recall)\n",
    "print(\"F1 Score:\", f1)\n"
   ]
  },
  {
   "cell_type": "markdown",
   "id": "189859c2",
   "metadata": {},
   "source": [
    "## Support Vector Machines"
   ]
  },
  {
   "cell_type": "code",
   "execution_count": 8,
   "id": "effe5394",
   "metadata": {},
   "outputs": [
    {
     "name": "stdout",
     "output_type": "stream",
     "text": [
      "Accuracy: 0.8410117434507678\n",
      "Precision: 0.8326968391539261\n",
      "Recall: 0.8410117434507678\n",
      "F1 Score: 0.8263713016842891\n"
     ]
    }
   ],
   "source": [
    "# Train the Support Vector Machines Classifier\n",
    "svm_classifier = SVC(kernel='linear')  # You can try different kernels like 'rbf', 'poly', etc.\n",
    "svm_classifier.fit(X_train, y_train)\n",
    "\n",
    "# Make predictions\n",
    "y_pred = svm_classifier.predict(X_test)\n",
    "\n",
    "# Evaluate the classifier\n",
    "accuracy = accuracy_score(y_test, y_pred)\n",
    "precision = precision_score(y_test, y_pred, average='weighted')\n",
    "recall = recall_score(y_test, y_pred, average='weighted')\n",
    "f1 = f1_score(y_test, y_pred, average='weighted')\n",
    "\n",
    "print(\"Accuracy:\", accuracy)\n",
    "print(\"Precision:\", precision)\n",
    "print(\"Recall:\", recall)\n",
    "print(\"F1 Score:\", f1)"
   ]
  },
  {
   "cell_type": "markdown",
   "id": "407d11c9",
   "metadata": {},
   "source": [
    "## Random Forest "
   ]
  },
  {
   "cell_type": "code",
   "execution_count": null,
   "id": "23297e8d",
   "metadata": {},
   "outputs": [],
   "source": [
    "# Train the Random Forest Classifier\n",
    "random_forest_classifier = RandomForestClassifier(n_estimators=100)  # You can adjust the number of estimators\n",
    "random_forest_classifier.fit(X_train, y_train)\n",
    "\n",
    "# Make predictions\n",
    "y_pred = random_forest_classifier.predict(X_test)\n",
    "\n",
    "# Evaluate the classifier\n",
    "accuracy = accuracy_score(y_test, y_pred)\n",
    "precision = precision_score(y_test, y_pred, average='weighted')\n",
    "recall = recall_score(y_test, y_pred, average='weighted')\n",
    "f1 = f1_score(y_test, y_pred, average='weighted')\n",
    "\n",
    "print(\"Accuracy:\", accuracy)\n",
    "print(\"Precision:\", precision)\n",
    "print(\"Recall:\", recall)\n",
    "print(\"F1 Score:\", f1)"
   ]
  },
  {
   "cell_type": "code",
   "execution_count": null,
   "id": "1aa06e50",
   "metadata": {},
   "outputs": [],
   "source": []
  }
 ],
 "metadata": {
  "kernelspec": {
   "display_name": "Python 3 (ipykernel)",
   "language": "python",
   "name": "python3"
  },
  "language_info": {
   "codemirror_mode": {
    "name": "ipython",
    "version": 3
   },
   "file_extension": ".py",
   "mimetype": "text/x-python",
   "name": "python",
   "nbconvert_exporter": "python",
   "pygments_lexer": "ipython3",
   "version": "3.11.5"
  }
 },
 "nbformat": 4,
 "nbformat_minor": 5
}
